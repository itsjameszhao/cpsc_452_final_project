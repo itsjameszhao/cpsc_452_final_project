{
 "cells": [
  {
   "cell_type": "code",
   "execution_count": 4,
   "id": "785d2a21",
   "metadata": {},
   "outputs": [],
   "source": [
    "import PIL\n",
    "from PIL import Image"
   ]
  },
  {
   "cell_type": "code",
   "execution_count": 8,
   "id": "cc912b23",
   "metadata": {},
   "outputs": [],
   "source": [
    "newsize = (64, 64)\n",
    "img_y = Image.open('./faces_train/10_0_0_20170110220644705.jpg')\n",
    "img_y = img_y.resize(newsize, Image.ANTIALIAS)\n",
    "img_y.show()"
   ]
  },
  {
   "cell_type": "code",
   "execution_count": null,
   "id": "34ae3b4e",
   "metadata": {},
   "outputs": [],
   "source": []
  }
 ],
 "metadata": {
  "kernelspec": {
   "display_name": "Python 3 (ipykernel)",
   "language": "python",
   "name": "python3"
  },
  "language_info": {
   "codemirror_mode": {
    "name": "ipython",
    "version": 3
   },
   "file_extension": ".py",
   "mimetype": "text/x-python",
   "name": "python",
   "nbconvert_exporter": "python",
   "pygments_lexer": "ipython3",
   "version": "3.8.12"
  }
 },
 "nbformat": 4,
 "nbformat_minor": 5
}
